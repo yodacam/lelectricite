{
 "cells": [
  {
   "cell_type": "code",
   "execution_count": null,
   "metadata": {},
   "outputs": [],
   "source": [
    "import pandas as pd\n",
    "import os\n",
    "import plotly.express as px\n",
    "import matplotlib.pyplot as plt\n",
    "import plotly.graph_objs as go"
   ]
  },
  {
   "cell_type": "code",
   "execution_count": null,
   "metadata": {},
   "outputs": [],
   "source": [
    "pd.set_option('display.max_rows', 20)\n",
    "pd.set_option('display.max_columns', 500)"
   ]
  },
  {
   "cell_type": "code",
   "execution_count": null,
   "metadata": {},
   "outputs": [],
   "source": [
    "annuel_dfs = []\n",
    "other_dfs = []\n",
    "\n",
    "folder = r'./data_rte/Annuel/'\n",
    "for file in os.listdir(folder):\n",
    "    df = pd.read_csv(os.path.join(folder, file), encoding='latin-1', on_bad_lines='skip', sep='\\t',na_values=['ND'], index_col=False)\n",
    "    annuel_dfs.append(df)\n",
    "\n",
    "folder = r'./data_rte/Autre/'\n",
    "for file in os.listdir(folder):\n",
    "    df = pd.read_csv(os.path.join(folder, file), encoding='latin-1', on_bad_lines='skip', sep='\\t',na_values=['ND'], index_col=False)\n",
    "    other_dfs.append(df)\n",
    "\n",
    "annuel_df = pd.concat(annuel_dfs)\n",
    "region_df = pd.concat(other_dfs)\n",
    "\n"
   ]
  },
  {
   "cell_type": "code",
   "execution_count": null,
   "metadata": {},
   "outputs": [],
   "source": [
    "annuel_df"
   ]
  },
  {
   "attachments": {},
   "cell_type": "markdown",
   "metadata": {},
   "source": [
    "### Modification global data frame"
   ]
  },
  {
   "cell_type": "code",
   "execution_count": null,
   "metadata": {},
   "outputs": [],
   "source": [
    "annuel_df['datetime'] = pd.to_datetime(annuel_df['Date']+ ' '+annuel_df['Heures'])\n",
    "annuel_df = annuel_df.set_index('datetime')\n",
    "annuel_df = annuel_df.assign(Production = annuel_df.Fioul + annuel_df.Charbon + annuel_df.Gaz + annuel_df.Nucléaire + annuel_df.Eolien + annuel_df.Solaire + annuel_df.Hydraulique + annuel_df.Bioénergies)\n"
   ]
  },
  {
   "cell_type": "code",
   "execution_count": null,
   "metadata": {},
   "outputs": [],
   "source": [
    "test = annuel_df.groupby('Date')['Consommation'].sum()\n",
    "test.plot()"
   ]
  },
  {
   "cell_type": "code",
   "execution_count": null,
   "metadata": {},
   "outputs": [],
   "source": [
    "test2 = annuel_df.dropna().resample('M').asfreq()\n",
    "test2.Consommation.plot()"
   ]
  },
  {
   "cell_type": "code",
   "execution_count": null,
   "metadata": {},
   "outputs": [],
   "source": [
    "annuel_df"
   ]
  },
  {
   "cell_type": "code",
   "execution_count": null,
   "metadata": {},
   "outputs": [],
   "source": [
    "fig = px.histogram(annuel_df, x=annuel_df.index, y=['Fioul','Charbon','Gaz','Nucléaire','Eolien','Solaire','Hydraulique','Pompage','Bioénergies'])\n",
    "fig.show()"
   ]
  },
  {
   "cell_type": "code",
   "execution_count": null,
   "metadata": {},
   "outputs": [],
   "source": [
    "annuel_df['Production'].dropna().plot(label='Production',alpha=1)\n",
    "annuel_df['Consommation'].dropna().plot(label='Consommation',alpha=0.6)\n",
    "plt.legend()\n",
    "plt.show()"
   ]
  },
  {
   "cell_type": "code",
   "execution_count": null,
   "metadata": {},
   "outputs": [],
   "source": [
    "test = annuel_df['Production'].dropna() > annuel_df['Consommation'].dropna()\n",
    "test\n"
   ]
  },
  {
   "cell_type": "code",
   "execution_count": null,
   "metadata": {},
   "outputs": [],
   "source": [
    "(test.sum())/len(test)"
   ]
  },
  {
   "cell_type": "code",
   "execution_count": null,
   "metadata": {},
   "outputs": [],
   "source": [
    "i = 0\n",
    "for truc in test:\n",
    "    if truc == True:\n",
    "        i += 1\n",
    "i/len(test)*100"
   ]
  },
  {
   "cell_type": "code",
   "execution_count": null,
   "metadata": {},
   "outputs": [],
   "source": [
    "annuel_df = annuel_df.assign(Somme_ech = annuel_df['Ech. comm. Angleterre'] + annuel_df['Ech. comm. Espagne'] + annuel_df['Ech. comm. Italie'] + annuel_df['Ech. comm. Suisse'] + annuel_df['Ech. comm. Allemagne-Belgique'])"
   ]
  },
  {
   "cell_type": "code",
   "execution_count": null,
   "metadata": {},
   "outputs": [],
   "source": [
    "annuel_df['Production'].dropna().plot(label='Production',alpha=1)\n",
    "annuel_df['Consommation'].dropna().plot(label='Consommation',alpha=0.6)\n",
    "annuel_df['Somme_ech'].dropna().plot(label='Somme échange')\n",
    "plt.legend()\n",
    "plt.show()"
   ]
  },
  {
   "attachments": {},
   "cell_type": "markdown",
   "metadata": {},
   "source": [
    "        Les sources de base sont le solaire et l'eolien.\n",
    "        Les sources de pointe sont tout le reste."
   ]
  },
  {
   "cell_type": "code",
   "execution_count": null,
   "metadata": {},
   "outputs": [],
   "source": [
    "region_df['datetime'] = pd.to_datetime(region_df['Date']+ ' '+region_df['Heures'])\n",
    "region_df = region_df.set_index('datetime')\n",
    "region_df = region_df.sort_index()"
   ]
  },
  {
   "cell_type": "code",
   "execution_count": null,
   "metadata": {},
   "outputs": [],
   "source": [
    "region_df_consommation = region_df[['Périmètre','Consommation']]"
   ]
  },
  {
   "cell_type": "code",
   "execution_count": null,
   "metadata": {},
   "outputs": [],
   "source": [
    "region_df_consommation = region_df_consommation.pivot_table(index='datetime', columns='Périmètre', values='Consommation')"
   ]
  },
  {
   "cell_type": "code",
   "execution_count": null,
   "metadata": {},
   "outputs": [],
   "source": [
    "region_df_consommation.plot()"
   ]
  },
  {
   "cell_type": "code",
   "execution_count": null,
   "metadata": {},
   "outputs": [],
   "source": [
    "populations = {\n",
    "    \"Auvergne-Rhône-Alpes\": 8114416,\n",
    "    \"Normandie\": 3328364,\n",
    "    \"Centre-Val de Loire\": 2570470,\n",
    "    \"Nouvelle-Aquitaine\": 5960994,\n",
    "    \"Grand-Est\": 5495238,\n",
    "    \"PACA\": 5638035,\n",
    "    \"Pays-de-la-Loire\": 3868828,\n",
    "    \"Occitanie\": 6124997,\n",
    "    \"Ile-de-France\": 12278210,\n",
    "    \"Hauts-de-France\": 6011407,\n",
    "    \"Bretagne\": 3384301,\n",
    "    \"Bourgogne-Franche-Comté\": 2829343\n",
    "}\n",
    "superficie_regions = {\n",
    "    'Auvergne-Rhône-Alpes': 69708,\n",
    "    'Bourgogne-Franche-Comté': 47731,\n",
    "    'Bretagne': 27208,\n",
    "    'Centre-Val de Loire': 39150,\n",
    "    'Grand-Est': 57906,\n",
    "    'Hauts-de-France': 31811,\n",
    "    'Ile-de-France': 12011,\n",
    "    'Normandie': 29907,\n",
    "    'Nouvelle-Aquitaine': 84175,\n",
    "    'Occitanie': 72498,\n",
    "    'PACA': 31813,\n",
    "    'Pays-de-la-Loire': 32082\n",
    "}"
   ]
  },
  {
   "cell_type": "code",
   "execution_count": null,
   "metadata": {},
   "outputs": [],
   "source": [
    "resultats_par_habitant = {}\n",
    "\n",
    "region_df_filtre = region_df[region_df['Périmètre'] != 'RTE ne pourra être tenu responsable de l\\'usage qui pourrait être fait des données mises à disposition, ni en cas de prévisions qui se révèleraient imprécises.']\n",
    "region_df_somme = region_df_filtre.groupby(['Périmètre'])['Consommation'].sum()\n",
    "\n",
    "for region, consommation in region_df_somme.items():\n",
    "    population = populations[region]\n",
    "    resultats_par_habitant[region] = consommation / population\n",
    "    \n",
    "resultats_par_habitant"
   ]
  },
  {
   "cell_type": "code",
   "execution_count": null,
   "metadata": {},
   "outputs": [],
   "source": [
    "resultats_par_superficie = {}\n",
    "\n",
    "region_df_filtre = region_df[region_df['Périmètre'] != 'RTE ne pourra être tenu responsable de l\\'usage qui pourrait être fait des données mises à disposition, ni en cas de prévisions qui se révèleraient imprécises.']\n",
    "region_df_somme = region_df_filtre.groupby(['Périmètre'])['Consommation'].sum()\n",
    "\n",
    "for region, consommation in region_df_somme.items():\n",
    "    superficie = superficie_regions[region]\n",
    "    resultats_par_superficie[region] = consommation / superficie\n",
    "    \n",
    "resultats_par_superficie"
   ]
  },
  {
   "cell_type": "code",
   "execution_count": null,
   "metadata": {},
   "outputs": [],
   "source": [
    "consumption_per_km2 = go.Bar(\n",
    "    x=list(resultats_par_superficie.keys()),\n",
    "    y=list(resultats_par_superficie.values()),\n",
    "    name='Consommation par km²'\n",
    ")\n",
    "\n",
    "# create bar trace for consumption per capita\n",
    "consumption_per_capita = go.Bar(\n",
    "    x=list(resultats_par_habitant.keys()),\n",
    "    y=list(resultats_par_habitant.values()),\n",
    "    name='Consommation par habitant'\n",
    ")\n",
    "\n",
    "# create layout with logarithmic yaxis scale\n",
    "layout = go.Layout(\n",
    "    title='Consommation énergétique par région',\n",
    "    yaxis=dict(\n",
    "        title='Consommation énergétique',\n",
    "        type='log'\n",
    "    )\n",
    ")\n",
    "\n",
    "# create figure with both bar traces and layout\n",
    "fig = go.Figure(data=[consumption_per_km2, consumption_per_capita], layout=layout)\n",
    "\n",
    "# display figure\n",
    "fig.show()"
   ]
  },
  {
   "cell_type": "code",
   "execution_count": null,
   "metadata": {},
   "outputs": [],
   "source": [
    "region_df['Nucléaire'] = region_df['Nucléaire'].replace(\"-\",0, regex=True)\n",
    "region_df['Eolien'] = region_df['Eolien'].replace(\"-\",0, regex=True)\n",
    "region_df['Solaire'] = region_df['Solaire'].replace(\"-\",0, regex=True)\n",
    "region_df['Hydraulique'] = region_df['Hydraulique'].replace(\"-\",0, regex=True)\n",
    "region_df['Bioénergies'] = region_df['Bioénergies'].replace(\"-\",0, regex=True)"
   ]
  },
  {
   "cell_type": "code",
   "execution_count": null,
   "metadata": {},
   "outputs": [],
   "source": [
    "region_df = region_df.astype({'Eolien':'float','Bioénergies':'float','Solaire':'float','Hydraulique':'float'})"
   ]
  },
  {
   "cell_type": "code",
   "execution_count": null,
   "metadata": {},
   "outputs": [],
   "source": [
    "region_df = region_df.dropna()\n",
    "region_df = region_df.assign(NonRenouvelable = region_df.Thermique + region_df.Nucléaire)\n",
    "region_df = region_df.assign(Renouvelable = region_df.Eolien + region_df.Solaire + region_df.Hydraulique + region_df.Bioénergies)\n",
    "region_df = region_df.assign(Production_sans_nucléaire = region_df.Eolien + region_df.Solaire + region_df.Hydraulique + region_df.Bioénergies + region_df.Thermique)"
   ]
  },
  {
   "cell_type": "code",
   "execution_count": null,
   "metadata": {},
   "outputs": [],
   "source": [
    "region_df.groupby(['Périmètre'])['NonRenouvelable'].sum().sort_values(ascending=True)"
   ]
  },
  {
   "cell_type": "code",
   "execution_count": null,
   "metadata": {},
   "outputs": [],
   "source": [
    "region_df.groupby([region_df.index.year, region_df.index.month]).sum().plot(y='NonRenouvelable')"
   ]
  },
  {
   "cell_type": "code",
   "execution_count": null,
   "metadata": {},
   "outputs": [],
   "source": [
    "region_df.groupby(['Périmètre'])['Nucléaire'].sum().sort_values(ascending=True)"
   ]
  },
  {
   "cell_type": "code",
   "execution_count": null,
   "metadata": {},
   "outputs": [],
   "source": [
    "region_df.groupby(['Périmètre'])['Renouvelable'].sum().sort_values(ascending=True)"
   ]
  },
  {
   "cell_type": "code",
   "execution_count": null,
   "metadata": {},
   "outputs": [],
   "source": [
    "region_df.groupby([region_df.index.year, region_df.index.month]).sum().plot(y='Renouvelable')"
   ]
  },
  {
   "cell_type": "code",
   "execution_count": null,
   "metadata": {},
   "outputs": [],
   "source": [
    "region_df"
   ]
  },
  {
   "cell_type": "code",
   "execution_count": null,
   "metadata": {},
   "outputs": [],
   "source": [
    "region_df = region_df.assign(Production = region_df.Renouvelable + region_df.NonRenouvelable)\n",
    "region_df['Production'].max()"
   ]
  },
  {
   "cell_type": "code",
   "execution_count": null,
   "metadata": {},
   "outputs": [],
   "source": [
    "region_df.groupby([region_df.index.year, region_df.index.month_name(), region_df.index.day, region_df.Périmètre])['Production'].max()"
   ]
  },
  {
   "cell_type": "code",
   "execution_count": null,
   "metadata": {},
   "outputs": [],
   "source": [
    "mirouni = region_df.groupby(['Périmètre']).resample('Y').max()\n",
    "mirouni = mirouni.assign(Max = mirouni.Thermique + mirouni.Eolien + mirouni.Solaire + mirouni.Hydraulique + mirouni.Bioénergies)"
   ]
  },
  {
   "cell_type": "code",
   "execution_count": null,
   "metadata": {},
   "outputs": [],
   "source": [
    "shrek = region_df.groupby(['Périmètre']).resample('Y')['Production_sans_nucléaire'].mean()/mirouni['Max']*100"
   ]
  },
  {
   "cell_type": "code",
   "execution_count": null,
   "metadata": {},
   "outputs": [],
   "source": [
    "shrek = shrek.unstack()"
   ]
  },
  {
   "cell_type": "code",
   "execution_count": null,
   "metadata": {},
   "outputs": [],
   "source": [
    "shrek.T.plot()\n",
    "plt.legend(bbox_to_anchor=(1.1, 1.05))"
   ]
  },
  {
   "cell_type": "code",
   "execution_count": null,
   "metadata": {},
   "outputs": [],
   "source": [
    "df_conso = region_df.pivot_table(index='datetime', columns='Périmètre', values='Consommation')\n",
    "df_prod = region_df.pivot_table(index='datetime', columns='Périmètre', values='Production')\n",
    "df_diff = df_prod - df_conso "
   ]
  },
  {
   "cell_type": "code",
   "execution_count": null,
   "metadata": {},
   "outputs": [],
   "source": [
    "px.line(df_diff.resample('M').ffill())"
   ]
  },
  {
   "cell_type": "code",
   "execution_count": null,
   "metadata": {},
   "outputs": [],
   "source": [
    "region_df.groupby(['Périmètre'])['Ech. physiques'].mean().sort_values()\n"
   ]
  },
  {
   "cell_type": "code",
   "execution_count": null,
   "metadata": {},
   "outputs": [],
   "source": [
    "def positif_or_negatif( nbre ) : \n",
    "    return  \"positif\" if nbre > 0 else \"negatif\"\n",
    "\n",
    "positif_or_negatif(4)"
   ]
  },
  {
   "cell_type": "code",
   "execution_count": null,
   "metadata": {},
   "outputs": [],
   "source": [
    "\n",
    "positif_or_negatif_lambda = lambda nbre : \"positif\" if nbre > 0 else \"negatif\"\n",
    "\n",
    "nbre = 8\n",
    "positif_or_negatif_lambda( 8 )\n"
   ]
  },
  {
   "cell_type": "code",
   "execution_count": null,
   "metadata": {},
   "outputs": [],
   "source": [
    "np.min"
   ]
  },
  {
   "cell_type": "code",
   "execution_count": null,
   "metadata": {},
   "outputs": [],
   "source": [
    "import numpy as np\n",
    "(\n",
    "    region_df.groupby(['Périmètre', region_df.index.year])['Ech. physiques'] \n",
    "         .agg([np.min, \n",
    "               np.max, \n",
    "               np.mean,\n",
    "               lambda g: \"positif\" if np.mean(g) > 0 else \"negatif\",\n",
    "               np.std\n",
    "               ]\n",
    "        )\n",
    ")"
   ]
  },
  {
   "cell_type": "code",
   "execution_count": null,
   "metadata": {},
   "outputs": [],
   "source": [
    "daily_diff = df_diff.resample('d').ffill()\n",
    "px.histogram(daily_diff)"
   ]
  },
  {
   "cell_type": "code",
   "execution_count": null,
   "metadata": {},
   "outputs": [],
   "source": [
    "daily_diff.var().sort_values()"
   ]
  },
  {
   "cell_type": "code",
   "execution_count": null,
   "metadata": {},
   "outputs": [],
   "source": [
    "daily_diff.mean().sort_values()"
   ]
  }
 ],
 "metadata": {
  "kernelspec": {
   "display_name": "base",
   "language": "python",
   "name": "python3"
  },
  "language_info": {
   "codemirror_mode": {
    "name": "ipython",
    "version": 3
   },
   "file_extension": ".py",
   "mimetype": "text/x-python",
   "name": "python",
   "nbconvert_exporter": "python",
   "pygments_lexer": "ipython3",
   "version": "3.10.9"
  },
  "orig_nbformat": 4
 },
 "nbformat": 4,
 "nbformat_minor": 2
}
